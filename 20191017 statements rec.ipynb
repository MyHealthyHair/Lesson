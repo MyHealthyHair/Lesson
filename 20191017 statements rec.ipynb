{
 "cells": [
  {
   "cell_type": "code",
   "execution_count": 1,
   "metadata": {},
   "outputs": [
    {
     "name": "stdout",
     "output_type": "stream",
     "text": [
      "{'b': 1, 'a': 0}\n"
     ]
    }
   ],
   "source": [
    "d = dict()\n",
    "d['b'] = 1\n",
    "d.setdefault('a', 0)\n",
    "d.setdefault('b', 0)\n",
    "print(d)"
   ]
  },
  {
   "cell_type": "code",
   "execution_count": 8,
   "metadata": {},
   "outputs": [
    {
     "name": "stdout",
     "output_type": "stream",
     "text": [
      "{'h': 1, 'e': 1, 'l': 3, 'o': 2, ',': 1, ' ': 1, 'w': 1, 'r': 1, 'd': 1}\n"
     ]
    }
   ],
   "source": [
    "count = {}\n",
    "for ch in 'hello, world':\n",
    "    if count.get(ch) == None:\n",
    "        count[ch] = 1\n",
    "    else:\n",
    "        count[ch] = count[ch] + 1\n",
    "print(count)"
   ]
  },
  {
   "cell_type": "code",
   "execution_count": 9,
   "metadata": {},
   "outputs": [
    {
     "name": "stdout",
     "output_type": "stream",
     "text": [
      "{'h': 1, 'e': 1, 'l': 3, 'o': 2, ',': 1, ' ': 1, 'w': 1, 'r': 1, 'd': 1}\n"
     ]
    }
   ],
   "source": [
    "count = {}\n",
    "for ch in 'hello, world':\n",
    "    count.setdefault(ch, 0)\n",
    "    count[ch] += 1\n",
    "\n",
    "print(count)"
   ]
  },
  {
   "cell_type": "code",
   "execution_count": 10,
   "metadata": {},
   "outputs": [],
   "source": [
    "text = '''\n",
    "Google today released the open source version of the differential privacy library used in some its core products, such as Google Maps. Any organization or developer can now check out the library on GitHub.\n",
    "\n",
    "Differential privacy limits the algorithms used to publish aggregate information about a statistical database. Whether you are a city planner, small business owner, or software developer, chances are you want to gain insights from the data of your citizens, customers, or users. But you don’t want to lose their trust in the process. Differentially private data analysis enables organizations to learn from the majority of their data without allowing any single individual’s data to be distinguished or re-identified.\n",
    "\n",
    "“If you are a health researcher, you may want to compare the average amount of time patients remain admitted across various hospitals in order to determine if there are differences in care,” Google product manager Miguel Guevara explains. “Differential privacy is a high-assurance, analytic means of ensuring that use cases like this are addressed in a privacy-preserving manner.”\n",
    "Differential privacy library features\n",
    "\n",
    "Google promises its library is easy for developers to deploy. It can help you perform functions that are difficult to execute from scratch, “like automatically calculating bounds on user contributions,” Guevera says. Key features include:\n",
    "\n",
    "    Statistical functions: Most common data science operations (counts, sums, averages, medians, and percentiles) are supported.\n",
    "    Rigorous testing: Besides an extensive test suite, an extensible “Stochastic Differential Privacy Model Checker library” helps prevent mistakes.\n",
    "    Ready to use: A PostgreSQL extension, along with common recipes, is included.\n",
    "    Modular: The library can be extended to include other functionalities, such as additional mechanisms, aggregation functions, or privacy budget management.\n",
    "\n",
    "This isn’t Google’s first differential privacy rodeo, but the company has been particularly busy in the space this year. In March, Google released TensorFlow Privacy and TensorFlow Federated. In June, the company open-sourced Private Join and Compute, which gives companies data insights while preserving privacy. To learn more about Google’s approach, check out the team’s technical paper on arXiv.\n",
    "'''"
   ]
  },
  {
   "cell_type": "code",
   "execution_count": 28,
   "metadata": {},
   "outputs": [
    {
     "name": "stdout",
     "output_type": "stream",
     "text": [
      "{'google': 5, 'today': 1, 'released': 2, 'the': 13, 'open': 2, 'source': 1, 'version': 1, 'of': 5, 'differential': 5, 'privacy': 10, 'library': 5, 'used': 2, 'in': 8, 'some': 1, 'its': 2, 'core': 1, 'products': 1, 'such': 2, 'as': 2, 'maps': 1, 'any': 2, 'organization': 1, 'or': 5, 'developer': 2, 'can': 3, 'now': 1, 'check': 2, 'out': 2, 'on': 3, 'github': 1, 'limits': 1, 'algorithms': 1, 'to': 12, 'publish': 1, 'aggregate': 1, 'information': 1, 'about': 2, 'a': 6, 'statistical': 2, 'database': 1, 'whether': 1, 'you': 6, 'are': 7, 'city': 1, 'planner': 1, 'small': 1, 'business': 1, 'owner': 1, 'software': 1, 'chances': 1, 'want': 3, 'gain': 1, 'insights': 2, 'from': 3, 'data': 6, 'your': 1, 'citizens': 1, 'customers': 1, 'users': 1, 'but': 2, 'don’t': 1, 'lose': 1, 'their': 2, 'trust': 1, 'process': 1, 'differentially': 1, 'private': 2, 'analysis': 1, 'enables': 1, 'organizations': 1, 'learn': 2, 'majority': 1, 'without': 1, 'allowing': 1, 'single': 1, 'individual’s': 1, 'be': 2, 'distinguished': 1, 're': 1, 'identified': 1, '“if': 1, 'health': 1, 'researcher': 1, 'may': 1, 'compare': 1, 'average': 1, 'amount': 1, 'time': 1, 'patients': 1, 'remain': 1, 'admitted': 1, 'across': 1, 'various': 1, 'hospitals': 1, 'order': 1, 'determine': 1, 'if': 1, 'there': 1, 'differences': 1, 'care': 1, '”': 3, 'product': 1, 'manager': 1, 'miguel': 1, 'guevara': 1, 'explains': 1, '“differential': 1, 'is': 3, 'high': 1, 'assurance': 1, 'analytic': 1, 'means': 1, 'ensuring': 1, 'that': 2, 'use': 2, 'cases': 1, 'like': 1, 'this': 3, 'addressed': 1, 'preserving': 2, 'manner': 1, 'features': 2, 'promises': 1, 'easy': 1, 'for': 1, 'developers': 1, 'deploy': 1, 'it': 1, 'help': 1, 'perform': 1, 'functions': 3, 'difficult': 1, 'execute': 1, 'scratch': 1, '“like': 1, 'automatically': 1, 'calculating': 1, 'bounds': 1, 'user': 1, 'contributions': 1, 'guevera': 1, 'says': 1, 'key': 1, 'include': 2, 'most': 1, 'common': 2, 'science': 1, 'operations': 1, 'counts': 1, 'sums': 1, 'averages': 1, 'medians': 1, 'and': 3, 'percentiles': 1, 'supported': 1, 'rigorous': 1, 'testing': 1, 'besides': 1, 'an': 2, 'extensive': 1, 'test': 1, 'suite': 1, 'extensible': 1, '“stochastic': 1, 'model': 1, 'checker': 1, 'library”': 1, 'helps': 1, 'prevent': 1, 'mistakes': 1, 'ready': 1, 'postgresql': 1, 'extension': 1, 'along': 1, 'with': 1, 'recipes': 1, 'included': 1, 'modular': 1, 'extended': 1, 'other': 1, 'functionalities': 1, 'additional': 1, 'mechanisms': 1, 'aggregation': 1, 'budget': 1, 'management': 1, 'isn’t': 1, 'google’s': 2, 'first': 1, 'rodeo': 1, 'company': 2, 'has': 1, 'been': 1, 'particularly': 1, 'busy': 1, 'space': 1, 'year': 1, 'march': 1, 'tensorflow': 2, 'federated': 1, 'june': 1, 'sourced': 1, 'join': 1, 'compute': 1, 'which': 1, 'gives': 1, 'companies': 1, 'while': 1, 'more': 1, 'approach': 1, 'team’s': 1, 'technical': 1, 'paper': 1, 'arxiv': 1}\n"
     ]
    }
   ],
   "source": [
    "sep = '\\n\\t\\'\\\":,.()-'\n",
    "for ch in sep:\n",
    "    text = text.replace(ch, ' ')\n",
    "\n",
    "words = text.lower().split(' ')\n",
    "try:\n",
    "    while True: words.remove('')\n",
    "except:\n",
    "    pass\n",
    "\n",
    "count = {}\n",
    "for word in words:\n",
    "    count.setdefault(word, 0)\n",
    "    count[word] += 1\n",
    "print(count)"
   ]
  },
  {
   "cell_type": "code",
   "execution_count": 29,
   "metadata": {},
   "outputs": [
    {
     "name": "stdout",
     "output_type": "stream",
     "text": [
      "['google', 'of', 'differential', 'library', 'or']\n"
     ]
    }
   ],
   "source": [
    "words_by_count = dict()\n",
    "for word in count.keys():\n",
    "    words_by_count.setdefault(count[word], [])\n",
    "    words_by_count[count[word]].append(word)\n",
    "print(words_by_count[5])"
   ]
  },
  {
   "cell_type": "code",
   "execution_count": 32,
   "metadata": {},
   "outputs": [
    {
     "name": "stdout",
     "output_type": "stream",
     "text": [
      "Count 13:the \n",
      "\n",
      "Count 12:to \n",
      "\n",
      "Count 10:privacy \n",
      "\n",
      "Count 8:in \n",
      "\n",
      "Count 7:are \n",
      "\n",
      "Count 6:a you data \n",
      "\n",
      "Count 5:google of differential library or \n",
      "\n",
      "Count 3:can on want from ” is this functions and \n",
      "\n",
      "Count 2:released open used its such as any developer check out about statistical insights but their private learn be that use preserving features include common an google’s company tensorflow \n",
      "\n",
      "Count 1:today source version some core products maps organization now github limits algorithms publish aggregate information database whether city planner small business owner software chances gain your citizens customers users don’t lose trust process differentially analysis enables organizations majority without allowing single individual’s distinguished re identified “if health researcher may compare average amount time patients remain admitted across various hospitals order determine if there differences care product manager miguel guevara explains “differential high assurance analytic means ensuring cases like addressed manner promises easy for developers deploy it help perform difficult execute scratch “like automatically calculating bounds user contributions guevera says key most science operations counts sums averages medians percentiles supported rigorous testing besides extensive test suite extensible “stochastic model checker library” helps prevent mistakes ready postgresql extension along with recipes included modular extended other functionalities additional mechanisms aggregation budget management isn’t first rodeo has been particularly busy space year march federated june sourced join compute which gives companies while more approach team’s technical paper arxiv \n",
      "\n"
     ]
    }
   ],
   "source": [
    "for item in sorted(words_by_count.keys(), reverse=True):\n",
    "    print('Count {}:'.format(item), end='')\n",
    "    for word in words_by_count[item]:\n",
    "        print(word, end=' ')\n",
    "    print('\\n')"
   ]
  },
  {
   "cell_type": "code",
   "execution_count": 40,
   "metadata": {},
   "outputs": [
    {
     "name": "stdout",
     "output_type": "stream",
     "text": [
      "[1, 2, 3, 5, 6, 7, 8, 10, 12, 13]\n",
      "[164, 28, 9, 5, 3, 1, 1, 1, 1, 1]\n"
     ]
    }
   ],
   "source": [
    "new_count = []\n",
    "occurences = sorted(words_by_count.keys())\n",
    "for occurence in occurences:\n",
    "    new_count.append(len(words_by_count[occurence]))\n",
    "print(sorted(words_by_count.keys()))\n",
    "print(new_count)"
   ]
  },
  {
   "cell_type": "code",
   "execution_count": 41,
   "metadata": {},
   "outputs": [
    {
     "data": {
      "text/plain": [
       "[<matplotlib.lines.Line2D at 0x1674dffcb88>]"
      ]
     },
     "execution_count": 41,
     "metadata": {},
     "output_type": "execute_result"
    },
    {
     "data": {
      "image/png": "[encoded data removed]",
      "text/plain": [
       "<Figure size 432x288 with 1 Axes>"
      ]
     },
     "metadata": {
      "needs_background": "light"
     },
     "output_type": "display_data"
    }
   ],
   "source": [
    "import matplotlib.pyplot as plt\n",
    "plt.plot(occurences, new_count)"
   ]
  },
  {
   "cell_type": "code",
   "execution_count": 42,
   "metadata": {},
   "outputs": [
    {
     "name": "stdout",
     "output_type": "stream",
     "text": [
      "1 2\n"
     ]
    }
   ],
   "source": [
    "x, y =  1, 2\n",
    "print(x, y)"
   ]
  },
  {
   "cell_type": "code",
   "execution_count": 43,
   "metadata": {},
   "outputs": [
    {
     "name": "stdout",
     "output_type": "stream",
     "text": [
      "2 1\n"
     ]
    }
   ],
   "source": [
    "x, y = y, x\n",
    "print(x, y)"
   ]
  },
  {
   "cell_type": "code",
   "execution_count": 44,
   "metadata": {},
   "outputs": [],
   "source": [
    "x, y, z = 1, 2, 3"
   ]
  },
  {
   "cell_type": "code",
   "execution_count": 45,
   "metadata": {},
   "outputs": [
    {
     "name": "stdout",
     "output_type": "stream",
     "text": [
      "1 2 3\n"
     ]
    }
   ],
   "source": [
    "print(x, y, z)"
   ]
  },
  {
   "cell_type": "code",
   "execution_count": 46,
   "metadata": {},
   "outputs": [],
   "source": [
    "r = 1, 2, 3"
   ]
  },
  {
   "cell_type": "code",
   "execution_count": 47,
   "metadata": {},
   "outputs": [
    {
     "data": {
      "text/plain": [
       "(1, 2, 3)"
      ]
     },
     "execution_count": 47,
     "metadata": {},
     "output_type": "execute_result"
    }
   ],
   "source": [
    "r"
   ]
  },
  {
   "cell_type": "code",
   "execution_count": 49,
   "metadata": {},
   "outputs": [
    {
     "name": "stdout",
     "output_type": "stream",
     "text": [
      "1 2 3\n"
     ]
    }
   ],
   "source": [
    "x, y, z = (1, 2, 3)\n",
    "print(x, y, z)"
   ]
  },
  {
   "cell_type": "code",
   "execution_count": 50,
   "metadata": {},
   "outputs": [
    {
     "ename": "ValueError",
     "evalue": "too many values to unpack (expected 3)",
     "output_type": "error",
     "traceback": [
      "\u001b[1;31m---------------------------------------------------------------------------\u001b[0m",
      "\u001b[1;31mValueError\u001b[0m                                Traceback (most recent call last)",
      "\u001b[1;32m<ipython-input-50-fa60cb8a6b9a>\u001b[0m in \u001b[0;36m<module>\u001b[1;34m\u001b[0m\n\u001b[1;32m----> 1\u001b[1;33m \u001b[0mx\u001b[0m\u001b[1;33m,\u001b[0m \u001b[0my\u001b[0m\u001b[1;33m,\u001b[0m \u001b[0mz\u001b[0m \u001b[1;33m=\u001b[0m \u001b[1;36m1\u001b[0m\u001b[1;33m,\u001b[0m \u001b[1;36m2\u001b[0m\u001b[1;33m,\u001b[0m \u001b[1;36m3\u001b[0m\u001b[1;33m,\u001b[0m \u001b[1;36m4\u001b[0m\u001b[1;33m\u001b[0m\u001b[1;33m\u001b[0m\u001b[0m\n\u001b[0m",
      "\u001b[1;31mValueError\u001b[0m: too many values to unpack (expected 3)"
     ]
    }
   ],
   "source": [
    "x, y, z = 1, 2, 3, 4"
   ]
  },
  {
   "cell_type": "code",
   "execution_count": 51,
   "metadata": {},
   "outputs": [
    {
     "name": "stdout",
     "output_type": "stream",
     "text": [
      "1 2 [3, 4]\n"
     ]
    }
   ],
   "source": [
    "x, y, *r = 1, 2, 3, 4\n",
    "print(x, y, r)"
   ]
  },
  {
   "cell_type": "code",
   "execution_count": 52,
   "metadata": {},
   "outputs": [
    {
     "name": "stdout",
     "output_type": "stream",
     "text": [
      "1 5 [2, 3, 4]\n"
     ]
    }
   ],
   "source": [
    "x, *m, y = 1, 2, 3, 4, 5\n",
    "print(x, y, m)"
   ]
  },
  {
   "cell_type": "code",
   "execution_count": 53,
   "metadata": {},
   "outputs": [
    {
     "name": "stdout",
     "output_type": "stream",
     "text": [
      "h d ['e', 'l', 'l', 'o', ',', ' ', 'w', 'o', 'r', 'l']\n"
     ]
    }
   ],
   "source": [
    "x, *m, y = 'hello, world'\n",
    "print(x, y, m)"
   ]
  },
  {
   "cell_type": "code",
   "execution_count": 54,
   "metadata": {},
   "outputs": [
    {
     "name": "stdout",
     "output_type": "stream",
     "text": [
      "3 3\n"
     ]
    }
   ],
   "source": [
    "x = y = 3\n",
    "print(x, y)"
   ]
  },
  {
   "cell_type": "code",
   "execution_count": 55,
   "metadata": {},
   "outputs": [],
   "source": [
    "x = 3\n",
    "y = 3"
   ]
  },
  {
   "cell_type": "code",
   "execution_count": 56,
   "metadata": {},
   "outputs": [
    {
     "name": "stdout",
     "output_type": "stream",
     "text": [
      "[0, 2] [0, 2]\n"
     ]
    }
   ],
   "source": [
    "x = y = [1, 2]\n",
    "x[0] = 0\n",
    "print(x, y)\n",
    "# y = [1, 2]\n",
    "# x = y"
   ]
  },
  {
   "cell_type": "code",
   "execution_count": 57,
   "metadata": {},
   "outputs": [
    {
     "data": {
      "text/plain": [
       "True"
      ]
     },
     "execution_count": 57,
     "metadata": {},
     "output_type": "execute_result"
    }
   ],
   "source": [
    "x is y"
   ]
  },
  {
   "cell_type": "code",
   "execution_count": 58,
   "metadata": {},
   "outputs": [
    {
     "data": {
      "text/plain": [
       "True"
      ]
     },
     "execution_count": 58,
     "metadata": {},
     "output_type": "execute_result"
    }
   ],
   "source": [
    "x == y"
   ]
  },
  {
   "cell_type": "code",
   "execution_count": 59,
   "metadata": {},
   "outputs": [
    {
     "data": {
      "text/plain": [
       "False"
      ]
     },
     "execution_count": 59,
     "metadata": {},
     "output_type": "execute_result"
    }
   ],
   "source": [
    "x = [1, 2]\n",
    "y = [1, 2]\n",
    "x is y"
   ]
  },
  {
   "cell_type": "code",
   "execution_count": 60,
   "metadata": {},
   "outputs": [
    {
     "data": {
      "text/plain": [
       "True"
      ]
     },
     "execution_count": 60,
     "metadata": {},
     "output_type": "execute_result"
    }
   ],
   "source": [
    "x == y"
   ]
  },
  {
   "cell_type": "code",
   "execution_count": 61,
   "metadata": {},
   "outputs": [
    {
     "name": "stdout",
     "output_type": "stream",
     "text": [
      "[0, 2] [1, 2]\n"
     ]
    }
   ],
   "source": [
    "x[0] = 0\n",
    "print(x, y)"
   ]
  },
  {
   "cell_type": "code",
   "execution_count": 63,
   "metadata": {},
   "outputs": [
    {
     "data": {
      "text/plain": [
       "False"
      ]
     },
     "execution_count": 63,
     "metadata": {},
     "output_type": "execute_result"
    }
   ],
   "source": [
    "x = (1, 2)\n",
    "y = (1, 2)\n",
    "x is y"
   ]
  },
  {
   "cell_type": "code",
   "execution_count": 64,
   "metadata": {},
   "outputs": [
    {
     "data": {
      "text/plain": [
       "True"
      ]
     },
     "execution_count": 64,
     "metadata": {},
     "output_type": "execute_result"
    }
   ],
   "source": [
    "x = 'hello'\n",
    "y = 'hello'\n",
    "x is y"
   ]
  },
  {
   "cell_type": "code",
   "execution_count": 65,
   "metadata": {},
   "outputs": [
    {
     "ename": "TypeError",
     "evalue": "'str' object does not support item assignment",
     "output_type": "error",
     "traceback": [
      "\u001b[1;31m---------------------------------------------------------------------------\u001b[0m",
      "\u001b[1;31mTypeError\u001b[0m                                 Traceback (most recent call last)",
      "\u001b[1;32m<ipython-input-65-d5650e786d9d>\u001b[0m in \u001b[0;36m<module>\u001b[1;34m\u001b[0m\n\u001b[1;32m----> 1\u001b[1;33m \u001b[0mx\u001b[0m\u001b[1;33m[\u001b[0m\u001b[1;36m0\u001b[0m\u001b[1;33m]\u001b[0m \u001b[1;33m=\u001b[0m \u001b[1;34m'H'\u001b[0m\u001b[1;33m\u001b[0m\u001b[1;33m\u001b[0m\u001b[0m\n\u001b[0m",
      "\u001b[1;31mTypeError\u001b[0m: 'str' object does not support item assignment"
     ]
    }
   ],
   "source": [
    "x[0] = 'H'"
   ]
  },
  {
   "cell_type": "code",
   "execution_count": 67,
   "metadata": {},
   "outputs": [
    {
     "data": {
      "text/plain": [
       "1"
      ]
     },
     "execution_count": 67,
     "metadata": {},
     "output_type": "execute_result"
    }
   ],
   "source": [
    "a = 0\n",
    "a += 1\n",
    "a"
   ]
  },
  {
   "cell_type": "code",
   "execution_count": 70,
   "metadata": {},
   "outputs": [
    {
     "data": {
      "text/plain": [
       "1"
      ]
     },
     "execution_count": 70,
     "metadata": {},
     "output_type": "execute_result"
    }
   ],
   "source": [
    "a = 0\n",
    "a = a + 1\n",
    "a"
   ]
  },
  {
   "cell_type": "code",
   "execution_count": 74,
   "metadata": {},
   "outputs": [
    {
     "name": "stdout",
     "output_type": "stream",
     "text": [
      "True\n",
      "[1, 2, 3]\n",
      "False\n"
     ]
    }
   ],
   "source": [
    "a = [1, 2]\n",
    "b = a\n",
    "print(a is b)\n",
    "a = a + [3]\n",
    "print(a)\n",
    "print(a is b)"
   ]
  },
  {
   "cell_type": "code",
   "execution_count": 75,
   "metadata": {},
   "outputs": [
    {
     "name": "stdout",
     "output_type": "stream",
     "text": [
      "True\n",
      "[1, 2, 3]\n",
      "True\n"
     ]
    }
   ],
   "source": [
    "a = [1, 2]\n",
    "b = a\n",
    "print(a is b)\n",
    "a += [3]\n",
    "print(a)\n",
    "print(a is b)"
   ]
  },
  {
   "cell_type": "code",
   "execution_count": 76,
   "metadata": {},
   "outputs": [
    {
     "data": {
      "text/plain": [
       "[1, 2, 3]"
      ]
     },
     "execution_count": 76,
     "metadata": {},
     "output_type": "execute_result"
    }
   ],
   "source": [
    "b"
   ]
  },
  {
   "cell_type": "code",
   "execution_count": 77,
   "metadata": {},
   "outputs": [],
   "source": [
    "if a > b:\n",
    "    print(a)\n",
    "    "
   ]
  },
  {
   "cell_type": "code",
   "execution_count": 78,
   "metadata": {},
   "outputs": [
    {
     "data": {
      "text/plain": [
       "2"
      ]
     },
     "execution_count": 78,
     "metadata": {},
     "output_type": "execute_result"
    }
   ],
   "source": [
    "# True, False\n",
    "True + 1"
   ]
  },
  {
   "cell_type": "code",
   "execution_count": 80,
   "metadata": {},
   "outputs": [
    {
     "data": {
      "text/plain": [
       "1"
      ]
     },
     "execution_count": 80,
     "metadata": {},
     "output_type": "execute_result"
    }
   ],
   "source": [
    "int(True)"
   ]
  },
  {
   "cell_type": "code",
   "execution_count": 81,
   "metadata": {},
   "outputs": [
    {
     "data": {
      "text/plain": [
       "True"
      ]
     },
     "execution_count": 81,
     "metadata": {},
     "output_type": "execute_result"
    }
   ],
   "source": [
    "bool(3)"
   ]
  },
  {
   "cell_type": "code",
   "execution_count": 82,
   "metadata": {},
   "outputs": [
    {
     "data": {
      "text/plain": [
       "False"
      ]
     },
     "execution_count": 82,
     "metadata": {},
     "output_type": "execute_result"
    }
   ],
   "source": [
    "# 0, '', (), [], {}, None\n",
    "bool(())"
   ]
  },
  {
   "cell_type": "code",
   "execution_count": 84,
   "metadata": {},
   "outputs": [
    {
     "name": "stdin",
     "output_type": "stream",
     "text": [
      "your name please:  yg\n"
     ]
    },
    {
     "name": "stdout",
     "output_type": "stream",
     "text": [
      "hello, yg\n"
     ]
    }
   ],
   "source": [
    "name = input('your name please: ')\n",
    "if name:\n",
    "    print('hello, ' + name)\n",
    "else:\n",
    "    print('You forgot your name?')"
   ]
  },
  {
   "cell_type": "code",
   "execution_count": 85,
   "metadata": {},
   "outputs": [
    {
     "name": "stdout",
     "output_type": "stream",
     "text": [
      "3 3 0\n"
     ]
    }
   ],
   "source": [
    "def abs(a):\n",
    "    return a if a >= 0 else -a\n",
    "\n",
    "print(abs(-3), abs(3), abs(0))\n"
   ]
  },
  {
   "cell_type": "code",
   "execution_count": null,
   "metadata": {},
   "outputs": [],
   "source": []
  },
  {
   "cell_type": "code",
   "execution_count": 86,
   "metadata": {},
   "outputs": [
    {
     "name": "stdin",
     "output_type": "stream",
     "text": [
      "your name please:  \n"
     ]
    },
    {
     "name": "stdout",
     "output_type": "stream",
     "text": [
      "You forgot your name?\n"
     ]
    }
   ],
   "source": [
    "name = input('your name please: ')\n",
    "print('hello, ' + name if name else 'You forgot your name?')"
   ]
  },
  {
   "cell_type": "code",
   "execution_count": 87,
   "metadata": {},
   "outputs": [
    {
     "data": {
      "text/plain": [
       "True"
      ]
     },
     "execution_count": 87,
     "metadata": {},
     "output_type": "execute_result"
    }
   ],
   "source": [
    "a = [1, 2, 3]\n",
    "1 in a"
   ]
  },
  {
   "cell_type": "code",
   "execution_count": 88,
   "metadata": {},
   "outputs": [
    {
     "name": "stdout",
     "output_type": "stream",
     "text": [
      "**********"
     ]
    }
   ],
   "source": [
    "for i in range(0, 10):\n",
    "    print('*', end='')"
   ]
  },
  {
   "cell_type": "code",
   "execution_count": 90,
   "metadata": {},
   "outputs": [
    {
     "name": "stdin",
     "output_type": "stream",
     "text": [
      "please input the year:  2000\n"
     ]
    },
    {
     "name": "stdout",
     "output_type": "stream",
     "text": [
      "leap year\n"
     ]
    }
   ],
   "source": [
    "year = int(input('please input the year: '))\n",
    "if year % 400 == 0:\n",
    "    print('leap year')\n",
    "elif year % 100 == 0:\n",
    "    print('not leap year')\n",
    "elif year % 4 == 0:\n",
    "    print('leap year')\n",
    "else:\n",
    "    print('not leap year')\n",
    "    "
   ]
  },
  {
   "cell_type": "code",
   "execution_count": 112,
   "metadata": {},
   "outputs": [
    {
     "name": "stdin",
     "output_type": "stream",
     "text": [
      "please input the year:  6\n"
     ]
    },
    {
     "name": "stdout",
     "output_type": "stream",
     "text": [
      "not leap year\n"
     ]
    }
   ],
   "source": [
    "def leap_year(year):\n",
    "    assert(year >= 0)\n",
    "    if year % 400 == 0:\n",
    "        return True\n",
    "    elif year % 100 == 0:\n",
    "        return False\n",
    "    elif year % 4 == 0:\n",
    "        return True\n",
    "    else:\n",
    "        return False\n",
    "    \n",
    "year = int(input('please input the year: '))\n",
    "if year < 0:\n",
    "    print('Invalid year.')\n",
    "else:\n",
    "    print('leap year' if leap_year(year) else 'not leap year')\n"
   ]
  },
  {
   "cell_type": "code",
   "execution_count": 94,
   "metadata": {},
   "outputs": [],
   "source": [
    "assert(4 == 4)"
   ]
  },
  {
   "cell_type": "code",
   "execution_count": 96,
   "metadata": {},
   "outputs": [
    {
     "name": "stdout",
     "output_type": "stream",
     "text": [
      "Test Ok.\n"
     ]
    }
   ],
   "source": [
    "def leap_year(year):\n",
    "    assert(year >= 0)\n",
    "    if year % 400 == 0:\n",
    "        return True\n",
    "    elif year % 100 == 0:\n",
    "        return False\n",
    "    elif year % 4 == 0:\n",
    "        return True\n",
    "    else:\n",
    "        return False\n",
    "\n",
    "assert(leap_year(2000))\n",
    "assert(leap_year(1980))\n",
    "assert(leap_year(1000) == False)\n",
    "assert(not leap_year(1987))\n",
    "print('Test Ok.')"
   ]
  },
  {
   "cell_type": "code",
   "execution_count": 98,
   "metadata": {},
   "outputs": [
    {
     "name": "stdout",
     "output_type": "stream",
     "text": [
      "Test Ok.\n"
     ]
    }
   ],
   "source": [
    "def leap_year(year):\n",
    "    assert(year >= 0)\n",
    "    return (year % 400 == 0) or (year % 4 == 0 and year % 100)\n",
    "\n",
    "assert(leap_year(2000))\n",
    "assert(leap_year(1980))\n",
    "assert(leap_year(1000) == False)\n",
    "assert(not leap_year(1987))\n",
    "print('Test Ok.')"
   ]
  },
  {
   "cell_type": "code",
   "execution_count": 99,
   "metadata": {},
   "outputs": [
    {
     "data": {
      "text/plain": [
       "97"
      ]
     },
     "execution_count": 99,
     "metadata": {},
     "output_type": "execute_result"
    }
   ],
   "source": [
    "ord('a')"
   ]
  },
  {
   "cell_type": "code",
   "execution_count": 100,
   "metadata": {},
   "outputs": [
    {
     "data": {
      "text/plain": [
       "'b'"
      ]
     },
     "execution_count": 100,
     "metadata": {},
     "output_type": "execute_result"
    }
   ],
   "source": [
    "chr(98)"
   ]
  },
  {
   "cell_type": "code",
   "execution_count": 101,
   "metadata": {},
   "outputs": [
    {
     "data": {
      "text/plain": [
       "'🙈'"
      ]
     },
     "execution_count": 101,
     "metadata": {},
     "output_type": "execute_result"
    }
   ],
   "source": [
    "chr(128584)"
   ]
  },
  {
   "cell_type": "code",
   "execution_count": 102,
   "metadata": {},
   "outputs": [
    {
     "name": "stdout",
     "output_type": "stream",
     "text": [
      "**********\n",
      "**********\n",
      "**********\n",
      "**********\n",
      "**********\n"
     ]
    }
   ],
   "source": [
    "for i in range(0, 5):\n",
    "    print('*' * 10)"
   ]
  },
  {
   "cell_type": "code",
   "execution_count": 103,
   "metadata": {},
   "outputs": [
    {
     "name": "stdout",
     "output_type": "stream",
     "text": [
      "**********\n",
      "**********\n",
      "**********\n",
      "**********\n",
      "**********\n"
     ]
    }
   ],
   "source": [
    "i = 0\n",
    "while i < 5:\n",
    "    print('*' * 10)\n",
    "    i += 1"
   ]
  },
  {
   "cell_type": "code",
   "execution_count": 104,
   "metadata": {},
   "outputs": [
    {
     "name": "stdout",
     "output_type": "stream",
     "text": [
      "\b                                                           *"
     ]
    }
   ],
   "source": [
    "import math\n",
    "def wait():\n",
    "    y = 0\n",
    "    while y < 500000:\n",
    "        z = math.sin(x) * math.exp(x)\n",
    "        y += 1\n",
    "\n",
    "for x in range(1, 60):\n",
    "    print('\\b *', end='')\n",
    "    wait()\n",
    "    \n"
   ]
  },
  {
   "cell_type": "code",
   "execution_count": 109,
   "metadata": {},
   "outputs": [
    {
     "name": "stdout",
     "output_type": "stream",
     "text": [
      "#                                     *       # *                              #     *                        #           #             *                    #             #                         #      *                             *                             *         #                            *     *                                 *\r"
     ]
    }
   ],
   "source": [
    "import math\n",
    "length = 40\n",
    "def wait():\n",
    "    y = 0\n",
    "    while y < 500000:\n",
    "        z = math.sin(x) * math.exp(x)\n",
    "        y += 1\n",
    "        \n",
    "bar = list()\n",
    "for i in range(0, length):\n",
    "    bar.append(' ')\n",
    "x = 0\n",
    "y = length - 1\n",
    "\n",
    "for i in range(0, length):\n",
    "    bar[x] = '*'\n",
    "    bar[y] = '#'\n",
    "    for ch in bar:\n",
    "        print(ch, sep='', end='')\n",
    "    wait()\n",
    "    bar[x] = ' '\n",
    "    bar[y] = ' '\n",
    "    x += 1\n",
    "    y -= 1\n",
    "    print('\\r', end='')\n",
    "    "
   ]
  },
  {
   "cell_type": "code",
   "execution_count": null,
   "metadata": {},
   "outputs": [],
   "source": []
  }
 ],
 "metadata": {
  "kernelspec": {
   "display_name": "Python 3",
   "language": "python",
   "name": "python3"
  },
  "language_info": {
   "codemirror_mode": {
    "name": "ipython",
    "version": 3
   },
   "file_extension": ".py",
   "mimetype": "text/x-python",
   "name": "python",
   "nbconvert_exporter": "python",
   "pygments_lexer": "ipython3",
   "version": "3.7.4"
  }
 },
 "nbformat": 4,
 "nbformat_minor": 4
}
